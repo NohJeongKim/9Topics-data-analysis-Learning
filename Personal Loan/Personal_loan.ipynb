{
  "nbformat": 4,
  "nbformat_minor": 0,
  "metadata": {
    "colab": {
      "provenance": [],
      "toc_visible": true
    },
    "kernelspec": {
      "name": "python3",
      "display_name": "Python 3"
    },
    "language_info": {
      "name": "python"
    }
  },
  "cells": [
    {
      "cell_type": "markdown",
      "metadata": {
        "id": "ziBPzVMsPks3"
      },
      "source": [
        "#Data 05: Personal Loan data\n",
        "* Data from: [Personal Loan](https://www.kaggle.com/itsmesunil/bank-loan-modelling)  \n",
        "Personal Loan 데이터는 고객을 더 늘리고자 하는 가상의 은행 데이터이다.  \n",
        "이 회사의 경영진은 부채를 가진 고객을 개인 대출 고객으로 전환하는 방법을 모색하려고 한다."
      ]
    },
    {
      "cell_type": "code",
      "source": [
        "from google.colab import drive\n",
        "drive.mount('/content/drive')"
      ],
      "metadata": {
        "id": "SWUT2Lqrbi7N",
        "colab": {
          "base_uri": "https://localhost:8080/"
        },
        "outputId": "b9db659b-6f4f-4c5b-ee5d-cbdf242ef0ee"
      },
      "execution_count": 1,
      "outputs": [
        {
          "output_type": "stream",
          "name": "stdout",
          "text": [
            "Mounted at /content/drive\n"
          ]
        }
      ]
    },
    {
      "cell_type": "markdown",
      "metadata": {
        "id": "2gXycufmPvUQ"
      },
      "source": [
        "##1.데이터 둘러보기"
      ]
    },
    {
      "cell_type": "code",
      "metadata": {
        "id": "Cof1_8_gPczg",
        "colab": {
          "base_uri": "https://localhost:8080/"
        },
        "outputId": "bca6b3a7-75ca-43c8-9437-0b5327c0d07f"
      },
      "source": [
        "#한글 폰트 설정하기\n",
        "!sudo apt-get install -y fonts-nanum # 글꼴 설치하기.\n",
        "!sudo fc-cache -fv # 글꼴 캐시를 스캔한다.\n",
        "!rm ~/.cache/matplotlib -rf # font 정보를 fontlist.json 에서 관리한다.\n",
        "#런타임 다시 시작"
      ],
      "execution_count": 3,
      "outputs": [
        {
          "output_type": "stream",
          "name": "stdout",
          "text": [
            "Reading package lists... Done\n",
            "Building dependency tree       \n",
            "Reading state information... Done\n",
            "fonts-nanum is already the newest version (20170925-1).\n",
            "The following package was automatically installed and is no longer required:\n",
            "  libnvidia-common-460\n",
            "Use 'sudo apt autoremove' to remove it.\n",
            "0 upgraded, 0 newly installed, 0 to remove and 20 not upgraded.\n",
            "/usr/share/fonts: caching, new cache contents: 0 fonts, 1 dirs\n",
            "/usr/share/fonts/truetype: caching, new cache contents: 0 fonts, 3 dirs\n",
            "/usr/share/fonts/truetype/humor-sans: caching, new cache contents: 1 fonts, 0 dirs\n",
            "/usr/share/fonts/truetype/liberation: caching, new cache contents: 16 fonts, 0 dirs\n",
            "/usr/share/fonts/truetype/nanum: caching, new cache contents: 10 fonts, 0 dirs\n",
            "/usr/local/share/fonts: caching, new cache contents: 0 fonts, 0 dirs\n",
            "/root/.local/share/fonts: skipping, no such directory\n",
            "/root/.fonts: skipping, no such directory\n",
            "/var/cache/fontconfig: cleaning cache directory\n",
            "/root/.cache/fontconfig: not cleaning non-existent cache directory\n",
            "/root/.fontconfig: not cleaning non-existent cache directory\n",
            "fc-cache: succeeded\n"
          ]
        }
      ]
    },
    {
      "cell_type": "code",
      "source": [
        "import matplotlib.font_manager as fm # 폰트를 다루기 위한 모듈이다.\n",
        "font_list=fm.findSystemFonts(fontpaths=None, fontext=\"ttf\") # 지정된 경로에서 글꼴을 검색한다.\n",
        "print(len(font_list))"
      ],
      "metadata": {
        "colab": {
          "base_uri": "https://localhost:8080/"
        },
        "id": "YkIwaciPkQN2",
        "outputId": "c500c862-d4ff-4256-ec5e-f752776538ad"
      },
      "execution_count": 16,
      "outputs": [
        {
          "output_type": "stream",
          "name": "stdout",
          "text": [
            "27\n"
          ]
        }
      ]
    },
    {
      "cell_type": "code",
      "source": [
        "font_list"
      ],
      "metadata": {
        "colab": {
          "base_uri": "https://localhost:8080/"
        },
        "id": "QpjXy-qMnEgK",
        "outputId": "04224f28-b6cf-4b8a-fb3d-a7f6a317fb3a"
      },
      "execution_count": 22,
      "outputs": [
        {
          "output_type": "execute_result",
          "data": {
            "text/plain": [
              "['/usr/share/fonts/truetype/liberation/LiberationMono-Regular.ttf',\n",
              " '/usr/share/fonts/truetype/liberation/LiberationSans-Regular.ttf',\n",
              " '/usr/share/fonts/truetype/humor-sans/Humor-Sans.ttf',\n",
              " '/usr/share/fonts/truetype/liberation/LiberationSerif-Regular.ttf',\n",
              " '/usr/share/fonts/truetype/nanum/NanumMyeongjoBold.ttf',\n",
              " '/usr/share/fonts/truetype/liberation/LiberationSansNarrow-Italic.ttf',\n",
              " '/usr/share/fonts/truetype/liberation/LiberationSans-Italic.ttf',\n",
              " '/usr/share/fonts/truetype/liberation/LiberationSerif-Bold.ttf',\n",
              " '/usr/share/fonts/truetype/nanum/NanumSquareR.ttf',\n",
              " '/usr/share/fonts/truetype/liberation/LiberationSansNarrow-Regular.ttf',\n",
              " '/usr/share/fonts/truetype/liberation/LiberationSerif-Italic.ttf',\n",
              " '/usr/share/fonts/truetype/liberation/LiberationSansNarrow-BoldItalic.ttf',\n",
              " '/usr/share/fonts/truetype/liberation/LiberationMono-BoldItalic.ttf',\n",
              " '/usr/share/fonts/truetype/liberation/LiberationMono-Bold.ttf',\n",
              " '/usr/share/fonts/truetype/nanum/NanumGothicBold.ttf',\n",
              " '/usr/share/fonts/truetype/nanum/NanumGothic.ttf',\n",
              " '/usr/share/fonts/truetype/nanum/NanumSquareRoundR.ttf',\n",
              " '/usr/share/fonts/truetype/liberation/LiberationMono-Italic.ttf',\n",
              " '/usr/share/fonts/truetype/nanum/NanumBarunGothicBold.ttf',\n",
              " '/usr/share/fonts/truetype/liberation/LiberationSans-Bold.ttf',\n",
              " '/usr/share/fonts/truetype/nanum/NanumSquareB.ttf',\n",
              " '/usr/share/fonts/truetype/liberation/LiberationSans-BoldItalic.ttf',\n",
              " '/usr/share/fonts/truetype/liberation/LiberationSerif-BoldItalic.ttf',\n",
              " '/usr/share/fonts/truetype/nanum/NanumSquareRoundB.ttf',\n",
              " '/usr/share/fonts/truetype/nanum/NanumMyeongjo.ttf',\n",
              " '/usr/share/fonts/truetype/liberation/LiberationSansNarrow-Bold.ttf',\n",
              " '/usr/share/fonts/truetype/nanum/NanumBarunGothic.ttf']"
            ]
          },
          "metadata": {},
          "execution_count": 22
        }
      ]
    },
    {
      "cell_type": "code",
      "source": [
        "path=font_list[-1]\n",
        "path"
      ],
      "metadata": {
        "colab": {
          "base_uri": "https://localhost:8080/",
          "height": 38
        },
        "id": "sef5Okwpn3f6",
        "outputId": "25728ca8-b5f8-457b-8d1a-cca67b834ac6"
      },
      "execution_count": 28,
      "outputs": [
        {
          "output_type": "execute_result",
          "data": {
            "text/plain": [
              "'/usr/share/fonts/truetype/nanum/NanumBarunGothic.ttf'"
            ],
            "application/vnd.google.colaboratory.intrinsic+json": {
              "type": "string"
            }
          },
          "metadata": {},
          "execution_count": 28
        }
      ]
    },
    {
      "cell_type": "code",
      "source": [
        "font_name=fm.FontProperties(fname=path).get_name()\n",
        "font_name"
      ],
      "metadata": {
        "colab": {
          "base_uri": "https://localhost:8080/",
          "height": 38
        },
        "id": "RcvQKHVGkQTv",
        "outputId": "a88f949b-0dc3-42d1-d5a6-52e4a0f88de2"
      },
      "execution_count": 34,
      "outputs": [
        {
          "output_type": "execute_result",
          "data": {
            "text/plain": [
              "'NanumBarunGothic'"
            ],
            "application/vnd.google.colaboratory.intrinsic+json": {
              "type": "string"
            }
          },
          "metadata": {},
          "execution_count": 34
        }
      ]
    },
    {
      "cell_type": "code",
      "source": [
        "#기본 패키지 불러오기\n",
        "import math\n",
        "import numpy as np\n",
        "import pandas as pd\n",
        "import seaborn as sns\n",
        "import matplotlib.pyplot as plt\n",
        "\n",
        "plt.style.use('seaborn')\n",
        "sns.set(font_scale=1)\n",
        "plt.rc('font', family=font_name) # 나눔 고딕 폰트 지정하기.\n",
        "plt.rcParams['font.family'] = font_name \n",
        "\n",
        "import warnings\n",
        "warnings.simplefilter(action='ignore', category=FutureWarning)"
      ],
      "metadata": {
        "id": "-9tJ3PrQoAZu"
      },
      "execution_count": 32,
      "outputs": []
    },
    {
      "cell_type": "code",
      "metadata": {
        "id": "NdZWFYlCP1ye",
        "colab": {
          "base_uri": "https://localhost:8080/"
        },
        "outputId": "512a0099-3870-4c80-fcd8-622486f8c98c"
      },
      "source": [
        "#구글 드라이브 마운트하기(이미 되어있다면 건너뛴다)\n",
        "from google.colab import drive \n",
        "drive.mount('/content/drive')"
      ],
      "execution_count": 35,
      "outputs": [
        {
          "output_type": "stream",
          "name": "stdout",
          "text": [
            "Drive already mounted at /content/drive; to attempt to forcibly remount, call drive.mount(\"/content/drive\", force_remount=True).\n"
          ]
        }
      ]
    },
    {
      "cell_type": "code",
      "metadata": {
        "id": "reB5yb4IP22K"
      },
      "source": [
        "#데이터 불러오기\n",
        "#데이터 파일 열어보면 sheet 1은 데이터 설명, sheet 2가 실제 데이터이므로 sheet 2만 가져온다!\n",
        "bk = pd.read_excel('/content/Bank_Personal_Loan_Modelling.xlsx', sheet_name=1) # sheet_name=1"
      ],
      "execution_count": 39,
      "outputs": []
    },
    {
      "cell_type": "code",
      "metadata": {
        "id": "eeYRAFJ7P4CN",
        "colab": {
          "base_uri": "https://localhost:8080/",
          "height": 267
        },
        "outputId": "8736e87f-97f9-463a-ac3c-d47d00396c28"
      },
      "source": [
        "#불러온 데이터 일단 보기\n",
        "bk.head(5)"
      ],
      "execution_count": 40,
      "outputs": [
        {
          "output_type": "execute_result",
          "data": {
            "text/plain": [
              "   ID  Age  Experience  Income  ZIP Code  Family  CCAvg  Education  Mortgage  \\\n",
              "0   1   25           1      49     91107       4    1.6          1         0   \n",
              "1   2   45          19      34     90089       3    1.5          1         0   \n",
              "2   3   39          15      11     94720       1    1.0          1         0   \n",
              "3   4   35           9     100     94112       1    2.7          2         0   \n",
              "4   5   35           8      45     91330       4    1.0          2         0   \n",
              "\n",
              "   Personal Loan  Securities Account  CD Account  Online  CreditCard  \n",
              "0              0                   1           0       0           0  \n",
              "1              0                   1           0       0           0  \n",
              "2              0                   0           0       0           0  \n",
              "3              0                   0           0       0           0  \n",
              "4              0                   0           0       0           1  "
            ],
            "text/html": [
              "\n",
              "  <div id=\"df-499faf04-78a9-48d5-8685-d89aa8811a3f\">\n",
              "    <div class=\"colab-df-container\">\n",
              "      <div>\n",
              "<style scoped>\n",
              "    .dataframe tbody tr th:only-of-type {\n",
              "        vertical-align: middle;\n",
              "    }\n",
              "\n",
              "    .dataframe tbody tr th {\n",
              "        vertical-align: top;\n",
              "    }\n",
              "\n",
              "    .dataframe thead th {\n",
              "        text-align: right;\n",
              "    }\n",
              "</style>\n",
              "<table border=\"1\" class=\"dataframe\">\n",
              "  <thead>\n",
              "    <tr style=\"text-align: right;\">\n",
              "      <th></th>\n",
              "      <th>ID</th>\n",
              "      <th>Age</th>\n",
              "      <th>Experience</th>\n",
              "      <th>Income</th>\n",
              "      <th>ZIP Code</th>\n",
              "      <th>Family</th>\n",
              "      <th>CCAvg</th>\n",
              "      <th>Education</th>\n",
              "      <th>Mortgage</th>\n",
              "      <th>Personal Loan</th>\n",
              "      <th>Securities Account</th>\n",
              "      <th>CD Account</th>\n",
              "      <th>Online</th>\n",
              "      <th>CreditCard</th>\n",
              "    </tr>\n",
              "  </thead>\n",
              "  <tbody>\n",
              "    <tr>\n",
              "      <th>0</th>\n",
              "      <td>1</td>\n",
              "      <td>25</td>\n",
              "      <td>1</td>\n",
              "      <td>49</td>\n",
              "      <td>91107</td>\n",
              "      <td>4</td>\n",
              "      <td>1.6</td>\n",
              "      <td>1</td>\n",
              "      <td>0</td>\n",
              "      <td>0</td>\n",
              "      <td>1</td>\n",
              "      <td>0</td>\n",
              "      <td>0</td>\n",
              "      <td>0</td>\n",
              "    </tr>\n",
              "    <tr>\n",
              "      <th>1</th>\n",
              "      <td>2</td>\n",
              "      <td>45</td>\n",
              "      <td>19</td>\n",
              "      <td>34</td>\n",
              "      <td>90089</td>\n",
              "      <td>3</td>\n",
              "      <td>1.5</td>\n",
              "      <td>1</td>\n",
              "      <td>0</td>\n",
              "      <td>0</td>\n",
              "      <td>1</td>\n",
              "      <td>0</td>\n",
              "      <td>0</td>\n",
              "      <td>0</td>\n",
              "    </tr>\n",
              "    <tr>\n",
              "      <th>2</th>\n",
              "      <td>3</td>\n",
              "      <td>39</td>\n",
              "      <td>15</td>\n",
              "      <td>11</td>\n",
              "      <td>94720</td>\n",
              "      <td>1</td>\n",
              "      <td>1.0</td>\n",
              "      <td>1</td>\n",
              "      <td>0</td>\n",
              "      <td>0</td>\n",
              "      <td>0</td>\n",
              "      <td>0</td>\n",
              "      <td>0</td>\n",
              "      <td>0</td>\n",
              "    </tr>\n",
              "    <tr>\n",
              "      <th>3</th>\n",
              "      <td>4</td>\n",
              "      <td>35</td>\n",
              "      <td>9</td>\n",
              "      <td>100</td>\n",
              "      <td>94112</td>\n",
              "      <td>1</td>\n",
              "      <td>2.7</td>\n",
              "      <td>2</td>\n",
              "      <td>0</td>\n",
              "      <td>0</td>\n",
              "      <td>0</td>\n",
              "      <td>0</td>\n",
              "      <td>0</td>\n",
              "      <td>0</td>\n",
              "    </tr>\n",
              "    <tr>\n",
              "      <th>4</th>\n",
              "      <td>5</td>\n",
              "      <td>35</td>\n",
              "      <td>8</td>\n",
              "      <td>45</td>\n",
              "      <td>91330</td>\n",
              "      <td>4</td>\n",
              "      <td>1.0</td>\n",
              "      <td>2</td>\n",
              "      <td>0</td>\n",
              "      <td>0</td>\n",
              "      <td>0</td>\n",
              "      <td>0</td>\n",
              "      <td>0</td>\n",
              "      <td>1</td>\n",
              "    </tr>\n",
              "  </tbody>\n",
              "</table>\n",
              "</div>\n",
              "      <button class=\"colab-df-convert\" onclick=\"convertToInteractive('df-499faf04-78a9-48d5-8685-d89aa8811a3f')\"\n",
              "              title=\"Convert this dataframe to an interactive table.\"\n",
              "              style=\"display:none;\">\n",
              "        \n",
              "  <svg xmlns=\"http://www.w3.org/2000/svg\" height=\"24px\"viewBox=\"0 0 24 24\"\n",
              "       width=\"24px\">\n",
              "    <path d=\"M0 0h24v24H0V0z\" fill=\"none\"/>\n",
              "    <path d=\"M18.56 5.44l.94 2.06.94-2.06 2.06-.94-2.06-.94-.94-2.06-.94 2.06-2.06.94zm-11 1L8.5 8.5l.94-2.06 2.06-.94-2.06-.94L8.5 2.5l-.94 2.06-2.06.94zm10 10l.94 2.06.94-2.06 2.06-.94-2.06-.94-.94-2.06-.94 2.06-2.06.94z\"/><path d=\"M17.41 7.96l-1.37-1.37c-.4-.4-.92-.59-1.43-.59-.52 0-1.04.2-1.43.59L10.3 9.45l-7.72 7.72c-.78.78-.78 2.05 0 2.83L4 21.41c.39.39.9.59 1.41.59.51 0 1.02-.2 1.41-.59l7.78-7.78 2.81-2.81c.8-.78.8-2.07 0-2.86zM5.41 20L4 18.59l7.72-7.72 1.47 1.35L5.41 20z\"/>\n",
              "  </svg>\n",
              "      </button>\n",
              "      \n",
              "  <style>\n",
              "    .colab-df-container {\n",
              "      display:flex;\n",
              "      flex-wrap:wrap;\n",
              "      gap: 12px;\n",
              "    }\n",
              "\n",
              "    .colab-df-convert {\n",
              "      background-color: #E8F0FE;\n",
              "      border: none;\n",
              "      border-radius: 50%;\n",
              "      cursor: pointer;\n",
              "      display: none;\n",
              "      fill: #1967D2;\n",
              "      height: 32px;\n",
              "      padding: 0 0 0 0;\n",
              "      width: 32px;\n",
              "    }\n",
              "\n",
              "    .colab-df-convert:hover {\n",
              "      background-color: #E2EBFA;\n",
              "      box-shadow: 0px 1px 2px rgba(60, 64, 67, 0.3), 0px 1px 3px 1px rgba(60, 64, 67, 0.15);\n",
              "      fill: #174EA6;\n",
              "    }\n",
              "\n",
              "    [theme=dark] .colab-df-convert {\n",
              "      background-color: #3B4455;\n",
              "      fill: #D2E3FC;\n",
              "    }\n",
              "\n",
              "    [theme=dark] .colab-df-convert:hover {\n",
              "      background-color: #434B5C;\n",
              "      box-shadow: 0px 1px 3px 1px rgba(0, 0, 0, 0.15);\n",
              "      filter: drop-shadow(0px 1px 2px rgba(0, 0, 0, 0.3));\n",
              "      fill: #FFFFFF;\n",
              "    }\n",
              "  </style>\n",
              "\n",
              "      <script>\n",
              "        const buttonEl =\n",
              "          document.querySelector('#df-499faf04-78a9-48d5-8685-d89aa8811a3f button.colab-df-convert');\n",
              "        buttonEl.style.display =\n",
              "          google.colab.kernel.accessAllowed ? 'block' : 'none';\n",
              "\n",
              "        async function convertToInteractive(key) {\n",
              "          const element = document.querySelector('#df-499faf04-78a9-48d5-8685-d89aa8811a3f');\n",
              "          const dataTable =\n",
              "            await google.colab.kernel.invokeFunction('convertToInteractive',\n",
              "                                                     [key], {});\n",
              "          if (!dataTable) return;\n",
              "\n",
              "          const docLinkHtml = 'Like what you see? Visit the ' +\n",
              "            '<a target=\"_blank\" href=https://colab.research.google.com/notebooks/data_table.ipynb>data table notebook</a>'\n",
              "            + ' to learn more about interactive tables.';\n",
              "          element.innerHTML = '';\n",
              "          dataTable['output_type'] = 'display_data';\n",
              "          await google.colab.output.renderOutput(dataTable, element);\n",
              "          const docLink = document.createElement('div');\n",
              "          docLink.innerHTML = docLinkHtml;\n",
              "          element.appendChild(docLink);\n",
              "        }\n",
              "      </script>\n",
              "    </div>\n",
              "  </div>\n",
              "  "
            ]
          },
          "metadata": {},
          "execution_count": 40
        }
      ]
    },
    {
      "cell_type": "markdown",
      "metadata": {
        "id": "KXuwQVyrP-Bd"
      },
      "source": [
        "<컬럼 설명>\n",
        "\n",
        "* ID: 고객 번호\n",
        "* Age: 나이\n",
        "* Experience: 사회 생활\n",
        "* Income: 연간 수입 (달러 000)  \n",
        "* Zipcode: 우편번호  \n",
        "* Family: 가족 구성원 수\n",
        "* CCAvg: 신용카드 월평균 이용 금액 (달러 000)  \n",
        "* Education: 학력(1: Undergrad, 2: Graduate, 3: Advanced/Professional)\n",
        "* Mortgage: 주택 담보 대출 금액(달러 000)\n",
        "* Personal Loan: 지난번 영업에서 고객이 개인대출을 받았는가?(0: N, 1: Y)  \n",
        "* Securities Account: 보험 유무(0: N, 1: Y)  \n",
        "* CD Account: 양도성 예금증서 보유 유무(0: N, 1: Y)  \n",
        "* Online: 온라인 뱅킹 유무(0: N, 1: Y)\n",
        "* Credit Card: 신용카드 보유 유무(0: N, 1: Y)\n"
      ]
    },
    {
      "cell_type": "markdown",
      "metadata": {
        "id": "E8CxrBd8P8o_"
      },
      "source": [
        "* 범주형 변수: *빈도frequency 계산 가능*\n",
        "               ID, zipcode, educaiont, personal loan, securities account, cd account, online, credit card\n",
        "* 연속형 변수: *평균, 표준편차, min/max 등 수치 계산 가능*\n",
        "               age, experience, income, family, ccavg, mortgage"
      ]
    },
    {
      "cell_type": "code",
      "source": [
        "bk[\"ID\"].unique()"
      ],
      "metadata": {
        "colab": {
          "base_uri": "https://localhost:8080/"
        },
        "id": "ZeotdtlYtsdD",
        "outputId": "dabb1f7c-3df5-48ff-c38d-8233c5f1fc00"
      },
      "execution_count": 44,
      "outputs": [
        {
          "output_type": "execute_result",
          "data": {
            "text/plain": [
              "array([   1,    2,    3, ..., 4998, 4999, 5000])"
            ]
          },
          "metadata": {},
          "execution_count": 44
        }
      ]
    },
    {
      "cell_type": "code",
      "metadata": {
        "id": "By1dyVhxQAMB",
        "colab": {
          "base_uri": "https://localhost:8080/"
        },
        "outputId": "ef6c30d6-41e8-40aa-a440-a64bce8d945b"
      },
      "source": [
        "#데이터 기본 정보 확인하기\n",
        "bk.info()"
      ],
      "execution_count": 42,
      "outputs": [
        {
          "output_type": "stream",
          "name": "stdout",
          "text": [
            "<class 'pandas.core.frame.DataFrame'>\n",
            "RangeIndex: 5000 entries, 0 to 4999\n",
            "Data columns (total 14 columns):\n",
            " #   Column              Non-Null Count  Dtype  \n",
            "---  ------              --------------  -----  \n",
            " 0   ID                  5000 non-null   int64  \n",
            " 1   Age                 5000 non-null   int64  \n",
            " 2   Experience          5000 non-null   int64  \n",
            " 3   Income              5000 non-null   int64  \n",
            " 4   ZIP Code            5000 non-null   int64  \n",
            " 5   Family              5000 non-null   int64  \n",
            " 6   CCAvg               5000 non-null   float64\n",
            " 7   Education           5000 non-null   int64  \n",
            " 8   Mortgage            5000 non-null   int64  \n",
            " 9   Personal Loan       5000 non-null   int64  \n",
            " 10  Securities Account  5000 non-null   int64  \n",
            " 11  CD Account          5000 non-null   int64  \n",
            " 12  Online              5000 non-null   int64  \n",
            " 13  CreditCard          5000 non-null   int64  \n",
            "dtypes: float64(1), int64(13)\n",
            "memory usage: 547.0 KB\n"
          ]
        }
      ]
    },
    {
      "cell_type": "code",
      "metadata": {
        "id": "LBAgZ0PKVkvF",
        "colab": {
          "base_uri": "https://localhost:8080/"
        },
        "outputId": "d00d55b1-7bc4-4dc1-a301-701e28da4fa9"
      },
      "source": [
        "#변수형 컬럼 안에는 어떤 내용이 들어있을까?\n",
        "print('Education: ', bk['Education'].unique())\n",
        "print('Personal Loan: ', bk['Personal Loan'].unique())\n",
        "print('Securities Account: ', bk['Securities Account'].unique())\n",
        "print('CD Account: ', bk['CD Account'].unique())\n",
        "print('Online: ', bk['Online'].unique())\n",
        "print('CreditCard: ', bk['CreditCard'].unique())"
      ],
      "execution_count": 45,
      "outputs": [
        {
          "output_type": "stream",
          "name": "stdout",
          "text": [
            "Education:  [1 2 3]\n",
            "Personal Loan:  [0 1]\n",
            "Securities Account:  [1 0]\n",
            "CD Account:  [0 1]\n",
            "Online:  [0 1]\n",
            "CreditCard:  [0 1]\n"
          ]
        }
      ]
    },
    {
      "cell_type": "code",
      "metadata": {
        "id": "Xn0GRBSJQBU-",
        "colab": {
          "base_uri": "https://localhost:8080/",
          "height": 488
        },
        "outputId": "4206ed2f-1f87-49b2-94b8-ccb7d09435bc"
      },
      "source": [
        "#연속형(수치) 데이터의 통계치 확인하기\n",
        "bk.describe().transpose() # 보기가 더 편리하다."
      ],
      "execution_count": 47,
      "outputs": [
        {
          "output_type": "execute_result",
          "data": {
            "text/plain": [
              "                     count          mean          std     min       25%  \\\n",
              "ID                  5000.0   2500.500000  1443.520003     1.0   1250.75   \n",
              "Age                 5000.0     45.338400    11.463166    23.0     35.00   \n",
              "Experience          5000.0     20.104600    11.467954    -3.0     10.00   \n",
              "Income              5000.0     73.774200    46.033729     8.0     39.00   \n",
              "ZIP Code            5000.0  93152.503000  2121.852197  9307.0  91911.00   \n",
              "Family              5000.0      2.396400     1.147663     1.0      1.00   \n",
              "CCAvg               5000.0      1.937913     1.747666     0.0      0.70   \n",
              "Education           5000.0      1.881000     0.839869     1.0      1.00   \n",
              "Mortgage            5000.0     56.498800   101.713802     0.0      0.00   \n",
              "Personal Loan       5000.0      0.096000     0.294621     0.0      0.00   \n",
              "Securities Account  5000.0      0.104400     0.305809     0.0      0.00   \n",
              "CD Account          5000.0      0.060400     0.238250     0.0      0.00   \n",
              "Online              5000.0      0.596800     0.490589     0.0      0.00   \n",
              "CreditCard          5000.0      0.294000     0.455637     0.0      0.00   \n",
              "\n",
              "                        50%       75%      max  \n",
              "ID                   2500.5   3750.25   5000.0  \n",
              "Age                    45.0     55.00     67.0  \n",
              "Experience             20.0     30.00     43.0  \n",
              "Income                 64.0     98.00    224.0  \n",
              "ZIP Code            93437.0  94608.00  96651.0  \n",
              "Family                  2.0      3.00      4.0  \n",
              "CCAvg                   1.5      2.50     10.0  \n",
              "Education               2.0      3.00      3.0  \n",
              "Mortgage                0.0    101.00    635.0  \n",
              "Personal Loan           0.0      0.00      1.0  \n",
              "Securities Account      0.0      0.00      1.0  \n",
              "CD Account              0.0      0.00      1.0  \n",
              "Online                  1.0      1.00      1.0  \n",
              "CreditCard              0.0      1.00      1.0  "
            ],
            "text/html": [
              "\n",
              "  <div id=\"df-730dc536-2f24-4989-9cdb-d5cf1093b3b2\">\n",
              "    <div class=\"colab-df-container\">\n",
              "      <div>\n",
              "<style scoped>\n",
              "    .dataframe tbody tr th:only-of-type {\n",
              "        vertical-align: middle;\n",
              "    }\n",
              "\n",
              "    .dataframe tbody tr th {\n",
              "        vertical-align: top;\n",
              "    }\n",
              "\n",
              "    .dataframe thead th {\n",
              "        text-align: right;\n",
              "    }\n",
              "</style>\n",
              "<table border=\"1\" class=\"dataframe\">\n",
              "  <thead>\n",
              "    <tr style=\"text-align: right;\">\n",
              "      <th></th>\n",
              "      <th>count</th>\n",
              "      <th>mean</th>\n",
              "      <th>std</th>\n",
              "      <th>min</th>\n",
              "      <th>25%</th>\n",
              "      <th>50%</th>\n",
              "      <th>75%</th>\n",
              "      <th>max</th>\n",
              "    </tr>\n",
              "  </thead>\n",
              "  <tbody>\n",
              "    <tr>\n",
              "      <th>ID</th>\n",
              "      <td>5000.0</td>\n",
              "      <td>2500.500000</td>\n",
              "      <td>1443.520003</td>\n",
              "      <td>1.0</td>\n",
              "      <td>1250.75</td>\n",
              "      <td>2500.5</td>\n",
              "      <td>3750.25</td>\n",
              "      <td>5000.0</td>\n",
              "    </tr>\n",
              "    <tr>\n",
              "      <th>Age</th>\n",
              "      <td>5000.0</td>\n",
              "      <td>45.338400</td>\n",
              "      <td>11.463166</td>\n",
              "      <td>23.0</td>\n",
              "      <td>35.00</td>\n",
              "      <td>45.0</td>\n",
              "      <td>55.00</td>\n",
              "      <td>67.0</td>\n",
              "    </tr>\n",
              "    <tr>\n",
              "      <th>Experience</th>\n",
              "      <td>5000.0</td>\n",
              "      <td>20.104600</td>\n",
              "      <td>11.467954</td>\n",
              "      <td>-3.0</td>\n",
              "      <td>10.00</td>\n",
              "      <td>20.0</td>\n",
              "      <td>30.00</td>\n",
              "      <td>43.0</td>\n",
              "    </tr>\n",
              "    <tr>\n",
              "      <th>Income</th>\n",
              "      <td>5000.0</td>\n",
              "      <td>73.774200</td>\n",
              "      <td>46.033729</td>\n",
              "      <td>8.0</td>\n",
              "      <td>39.00</td>\n",
              "      <td>64.0</td>\n",
              "      <td>98.00</td>\n",
              "      <td>224.0</td>\n",
              "    </tr>\n",
              "    <tr>\n",
              "      <th>ZIP Code</th>\n",
              "      <td>5000.0</td>\n",
              "      <td>93152.503000</td>\n",
              "      <td>2121.852197</td>\n",
              "      <td>9307.0</td>\n",
              "      <td>91911.00</td>\n",
              "      <td>93437.0</td>\n",
              "      <td>94608.00</td>\n",
              "      <td>96651.0</td>\n",
              "    </tr>\n",
              "    <tr>\n",
              "      <th>Family</th>\n",
              "      <td>5000.0</td>\n",
              "      <td>2.396400</td>\n",
              "      <td>1.147663</td>\n",
              "      <td>1.0</td>\n",
              "      <td>1.00</td>\n",
              "      <td>2.0</td>\n",
              "      <td>3.00</td>\n",
              "      <td>4.0</td>\n",
              "    </tr>\n",
              "    <tr>\n",
              "      <th>CCAvg</th>\n",
              "      <td>5000.0</td>\n",
              "      <td>1.937913</td>\n",
              "      <td>1.747666</td>\n",
              "      <td>0.0</td>\n",
              "      <td>0.70</td>\n",
              "      <td>1.5</td>\n",
              "      <td>2.50</td>\n",
              "      <td>10.0</td>\n",
              "    </tr>\n",
              "    <tr>\n",
              "      <th>Education</th>\n",
              "      <td>5000.0</td>\n",
              "      <td>1.881000</td>\n",
              "      <td>0.839869</td>\n",
              "      <td>1.0</td>\n",
              "      <td>1.00</td>\n",
              "      <td>2.0</td>\n",
              "      <td>3.00</td>\n",
              "      <td>3.0</td>\n",
              "    </tr>\n",
              "    <tr>\n",
              "      <th>Mortgage</th>\n",
              "      <td>5000.0</td>\n",
              "      <td>56.498800</td>\n",
              "      <td>101.713802</td>\n",
              "      <td>0.0</td>\n",
              "      <td>0.00</td>\n",
              "      <td>0.0</td>\n",
              "      <td>101.00</td>\n",
              "      <td>635.0</td>\n",
              "    </tr>\n",
              "    <tr>\n",
              "      <th>Personal Loan</th>\n",
              "      <td>5000.0</td>\n",
              "      <td>0.096000</td>\n",
              "      <td>0.294621</td>\n",
              "      <td>0.0</td>\n",
              "      <td>0.00</td>\n",
              "      <td>0.0</td>\n",
              "      <td>0.00</td>\n",
              "      <td>1.0</td>\n",
              "    </tr>\n",
              "    <tr>\n",
              "      <th>Securities Account</th>\n",
              "      <td>5000.0</td>\n",
              "      <td>0.104400</td>\n",
              "      <td>0.305809</td>\n",
              "      <td>0.0</td>\n",
              "      <td>0.00</td>\n",
              "      <td>0.0</td>\n",
              "      <td>0.00</td>\n",
              "      <td>1.0</td>\n",
              "    </tr>\n",
              "    <tr>\n",
              "      <th>CD Account</th>\n",
              "      <td>5000.0</td>\n",
              "      <td>0.060400</td>\n",
              "      <td>0.238250</td>\n",
              "      <td>0.0</td>\n",
              "      <td>0.00</td>\n",
              "      <td>0.0</td>\n",
              "      <td>0.00</td>\n",
              "      <td>1.0</td>\n",
              "    </tr>\n",
              "    <tr>\n",
              "      <th>Online</th>\n",
              "      <td>5000.0</td>\n",
              "      <td>0.596800</td>\n",
              "      <td>0.490589</td>\n",
              "      <td>0.0</td>\n",
              "      <td>0.00</td>\n",
              "      <td>1.0</td>\n",
              "      <td>1.00</td>\n",
              "      <td>1.0</td>\n",
              "    </tr>\n",
              "    <tr>\n",
              "      <th>CreditCard</th>\n",
              "      <td>5000.0</td>\n",
              "      <td>0.294000</td>\n",
              "      <td>0.455637</td>\n",
              "      <td>0.0</td>\n",
              "      <td>0.00</td>\n",
              "      <td>0.0</td>\n",
              "      <td>1.00</td>\n",
              "      <td>1.0</td>\n",
              "    </tr>\n",
              "  </tbody>\n",
              "</table>\n",
              "</div>\n",
              "      <button class=\"colab-df-convert\" onclick=\"convertToInteractive('df-730dc536-2f24-4989-9cdb-d5cf1093b3b2')\"\n",
              "              title=\"Convert this dataframe to an interactive table.\"\n",
              "              style=\"display:none;\">\n",
              "        \n",
              "  <svg xmlns=\"http://www.w3.org/2000/svg\" height=\"24px\"viewBox=\"0 0 24 24\"\n",
              "       width=\"24px\">\n",
              "    <path d=\"M0 0h24v24H0V0z\" fill=\"none\"/>\n",
              "    <path d=\"M18.56 5.44l.94 2.06.94-2.06 2.06-.94-2.06-.94-.94-2.06-.94 2.06-2.06.94zm-11 1L8.5 8.5l.94-2.06 2.06-.94-2.06-.94L8.5 2.5l-.94 2.06-2.06.94zm10 10l.94 2.06.94-2.06 2.06-.94-2.06-.94-.94-2.06-.94 2.06-2.06.94z\"/><path d=\"M17.41 7.96l-1.37-1.37c-.4-.4-.92-.59-1.43-.59-.52 0-1.04.2-1.43.59L10.3 9.45l-7.72 7.72c-.78.78-.78 2.05 0 2.83L4 21.41c.39.39.9.59 1.41.59.51 0 1.02-.2 1.41-.59l7.78-7.78 2.81-2.81c.8-.78.8-2.07 0-2.86zM5.41 20L4 18.59l7.72-7.72 1.47 1.35L5.41 20z\"/>\n",
              "  </svg>\n",
              "      </button>\n",
              "      \n",
              "  <style>\n",
              "    .colab-df-container {\n",
              "      display:flex;\n",
              "      flex-wrap:wrap;\n",
              "      gap: 12px;\n",
              "    }\n",
              "\n",
              "    .colab-df-convert {\n",
              "      background-color: #E8F0FE;\n",
              "      border: none;\n",
              "      border-radius: 50%;\n",
              "      cursor: pointer;\n",
              "      display: none;\n",
              "      fill: #1967D2;\n",
              "      height: 32px;\n",
              "      padding: 0 0 0 0;\n",
              "      width: 32px;\n",
              "    }\n",
              "\n",
              "    .colab-df-convert:hover {\n",
              "      background-color: #E2EBFA;\n",
              "      box-shadow: 0px 1px 2px rgba(60, 64, 67, 0.3), 0px 1px 3px 1px rgba(60, 64, 67, 0.15);\n",
              "      fill: #174EA6;\n",
              "    }\n",
              "\n",
              "    [theme=dark] .colab-df-convert {\n",
              "      background-color: #3B4455;\n",
              "      fill: #D2E3FC;\n",
              "    }\n",
              "\n",
              "    [theme=dark] .colab-df-convert:hover {\n",
              "      background-color: #434B5C;\n",
              "      box-shadow: 0px 1px 3px 1px rgba(0, 0, 0, 0.15);\n",
              "      filter: drop-shadow(0px 1px 2px rgba(0, 0, 0, 0.3));\n",
              "      fill: #FFFFFF;\n",
              "    }\n",
              "  </style>\n",
              "\n",
              "      <script>\n",
              "        const buttonEl =\n",
              "          document.querySelector('#df-730dc536-2f24-4989-9cdb-d5cf1093b3b2 button.colab-df-convert');\n",
              "        buttonEl.style.display =\n",
              "          google.colab.kernel.accessAllowed ? 'block' : 'none';\n",
              "\n",
              "        async function convertToInteractive(key) {\n",
              "          const element = document.querySelector('#df-730dc536-2f24-4989-9cdb-d5cf1093b3b2');\n",
              "          const dataTable =\n",
              "            await google.colab.kernel.invokeFunction('convertToInteractive',\n",
              "                                                     [key], {});\n",
              "          if (!dataTable) return;\n",
              "\n",
              "          const docLinkHtml = 'Like what you see? Visit the ' +\n",
              "            '<a target=\"_blank\" href=https://colab.research.google.com/notebooks/data_table.ipynb>data table notebook</a>'\n",
              "            + ' to learn more about interactive tables.';\n",
              "          element.innerHTML = '';\n",
              "          dataTable['output_type'] = 'display_data';\n",
              "          await google.colab.output.renderOutput(dataTable, element);\n",
              "          const docLink = document.createElement('div');\n",
              "          docLink.innerHTML = docLinkHtml;\n",
              "          element.appendChild(docLink);\n",
              "        }\n",
              "      </script>\n",
              "    </div>\n",
              "  </div>\n",
              "  "
            ]
          },
          "metadata": {},
          "execution_count": 47
        }
      ]
    },
    {
      "cell_type": "code",
      "metadata": {
        "id": "yFmMueVeVXOE",
        "colab": {
          "base_uri": "https://localhost:8080/"
        },
        "outputId": "b6326b67-fd80-48c2-db84-4a051e938112"
      },
      "source": [
        "#데이터 내용 정리해서 출력하기\n",
        "print(\"총 데이터 수: \", bk.shape[0]*bk.shape[1])\n",
        "print(\"총 결측치 수: {} = 전체 데이터의 {:.2f}% \".format(bk.isnull().sum().sum(), (bk.isnull().sum().sum()*100)/(bk.shape[0]*bk.shape[1])))\n",
        "print(\"Thera bank 고객의 나이는 {}세부터 {}세까지 있으며 평균 나이는 {:.1f}세이다.\".format((bk['Age'].min()),(bk['Age'].max()), (bk['Age'].mean())))\n",
        "print(\"Thera bank 고객의 평균 수입은 {:.1f} $이며, 최고수입은 {} $로 평균의 {:.1f}배이다.\".format((bk['Income'].mean()*1000), (bk['Income'].max()*1000), (bk['Income'].max()/(bk['Income'].mean()))))"
      ],
      "execution_count": 48,
      "outputs": [
        {
          "output_type": "stream",
          "name": "stdout",
          "text": [
            "총 데이터 수:  70000\n",
            "총 결측치 수: 0 = 전체 데이터의 0.00% \n",
            "Thera bank 고객의 나이는 23세부터 67세까지 있으며 평균 나이는 45.3세이다.\n",
            "Thera bank 고객의 평균 수입은 73774.2 $이며, 최고수입은 224000 $로 평균의 3.0배이다.\n"
          ]
        }
      ]
    },
    {
      "cell_type": "markdown",
      "metadata": {
        "id": "42kOwzrCZ3mm"
      },
      "source": [
        "##2.질문하기\n",
        "\n",
        "* 수입/월평균신용카드사용량/가족인원수와 대출 사이의 관계는?\n",
        "* 월 평균 사용 금액을 구간화 해서 특징을 볼 수 있을까?\n",
        "* 로지스틱 회귀 분석을 사용해서 신규 고객의 대출여부를 예측하는 모델 만들기 (목적)\n"
      ]
    },
    {
      "cell_type": "markdown",
      "metadata": {
        "id": "JNpwP5AKZ9G6"
      },
      "source": [
        "##3.데이터 정비하기"
      ]
    },
    {
      "cell_type": "markdown",
      "metadata": {
        "id": "xyXu15R-Z9sr"
      },
      "source": [
        "###3-1. 컬럼명 바꾸기"
      ]
    },
    {
      "cell_type": "code",
      "metadata": {
        "id": "x2sH7lQSZ28N"
      },
      "source": [
        "#중복 데이터 확인\n",
        "bk.______________().sum()"
      ],
      "execution_count": null,
      "outputs": []
    },
    {
      "cell_type": "code",
      "metadata": {
        "id": "mUczpbT0X7bE"
      },
      "source": [
        "#컬럼명 확인하기\n",
        "bk._________"
      ],
      "execution_count": null,
      "outputs": []
    },
    {
      "cell_type": "code",
      "metadata": {
        "id": "N0RhwO_iaKso"
      },
      "source": [
        "#컬럼명 변경하기\n",
        "bk._________ = ['id', 'age', 'exp', 'income', 'zip', 'fam', 'ccavg',\n",
        "       'edu', 'mort', 'loan', 'secu',\n",
        "       'cd', 'online', 'cc']\n",
        "bk._________"
      ],
      "execution_count": null,
      "outputs": []
    },
    {
      "cell_type": "markdown",
      "metadata": {
        "id": "GazAqikW87eH"
      },
      "source": [
        "###3-2. 필요없는 컬럼 제거"
      ]
    },
    {
      "cell_type": "code",
      "metadata": {
        "id": "MOWAGmCj86sy"
      },
      "source": [
        "#id, zip code는 분석과 큰 연관관계가 없으므로 제거\n",
        "bk1 = bk.____(['__','___'], axis=1, inplace=______)"
      ],
      "execution_count": null,
      "outputs": []
    },
    {
      "cell_type": "code",
      "metadata": {
        "id": "Kyyv1moH9QB7"
      },
      "source": [
        "bk1.head()"
      ],
      "execution_count": null,
      "outputs": []
    },
    {
      "cell_type": "markdown",
      "metadata": {
        "id": "2pTlwIs6alAC"
      },
      "source": [
        "##4.EDA & Visualization"
      ]
    },
    {
      "cell_type": "markdown",
      "metadata": {
        "id": "3QQQJVaZanW5"
      },
      "source": [
        "###4-1. 간단한 분석"
      ]
    },
    {
      "cell_type": "code",
      "metadata": {
        "id": "dywmas3acZgT"
      },
      "source": [
        "#수입과 대출 사이의 관계 집계하기\n",
        "df1 = bk1._________('____')['_____'].___([np.____,'____'])\n",
        "df1.rename(columns={'mean': 'Income Mean','count':'Number of People'})"
      ],
      "execution_count": null,
      "outputs": []
    },
    {
      "cell_type": "code",
      "metadata": {
        "id": "NoTCgJfQc2S0"
      },
      "source": [
        "#월평균 신용카드 사용액과 대출 사이의 관계 집계하기\n",
        "df2 = bk1.______('____')['_____'].___([np.____,'_____'])\n",
        "df2.rename(columns={'mean': 'CCAvg Mean','count':'Number of People'})"
      ],
      "execution_count": null,
      "outputs": []
    },
    {
      "cell_type": "code",
      "metadata": {
        "id": "PwMcj8kodFQ_"
      },
      "source": [
        "#가족 인원수와 대출 사이의 관계 집계하기\n",
        "df3 = bk1._____('___')['loan'].___([np.____,'_____'])\n",
        "df3.rename(columns={'mean': 'Personal Loan Mean','count':'Number of People'})"
      ],
      "execution_count": null,
      "outputs": []
    },
    {
      "cell_type": "markdown",
      "metadata": {
        "id": "4bP2p6gkdb9d"
      },
      "source": [
        "###4-2. 변수의 분포 확인하기"
      ]
    },
    {
      "cell_type": "code",
      "metadata": {
        "id": "kj37vpXeagsv"
      },
      "source": [
        "#연속형 변수의 분포 확인하기\n",
        "f, ax = plt.subplots(2, 3, figsize=(17, 9))\n",
        "\n",
        "sns._________(bk1['age'], ax=ax[_,_])\n",
        "sns._________(bk1['exp'], ax=ax[_,_])\n",
        "sns._________(bk1['income'], ax=ax[_,_])\n",
        "sns._________(bk1['fam'], ax=ax[_,_])\n",
        "sns._________(bk1['ccavg'], ax=ax[_,_])\n",
        "sns._________(bk['mort'], ax=ax[_,_])\n",
        "#sns._________(bk1['mort'][bk1['mort'] != 0], ax=ax[1,2]) #0인 것은 빼고 그리자!\n",
        "\n",
        "plt.show()"
      ],
      "execution_count": null,
      "outputs": []
    },
    {
      "cell_type": "code",
      "metadata": {
        "id": "sx0OvIqnMpey"
      },
      "source": [
        "#Age, exp, income에 대해 좀 더 그래프를 자세히 그려보자\n",
        "#세로선으로 평균값, 25, 50, 75% 선을 그어주자\n",
        "def drawline(plt, col):\n",
        "    mean = bk1.___________().loc['____', col]\n",
        "    m25 = bk1.___________().loc['___', col]\n",
        "    m50 = bk1.___________().loc['___', col]\n",
        "    m75 = bk1.___________().loc['___', col]\n",
        "    plt._______(____, color = 'red')\n",
        "    plt._______(____, color = 'blue')\n",
        "    plt._______(____, color = 'navy')\n",
        "    plt._______(____, color = 'purple')\n",
        "    plt.legend({'Mean': mean, '25%' : m25, '50%' : m50, '75%' : m75})\n",
        "\n",
        "f, ax = plt.subplots(3, 1, figsize=(12, 13))\n",
        "\n",
        "pp = sns._______(bk1['___'], ax = ax[0], bins=10, color = 'orange')\n",
        "drawline(pp, 'age')\n",
        "pp = sns._______(bk1['___'], ax = ax[1], bins=10, color = 'orange')\n",
        "drawline(pp, 'exp')\n",
        "pp = sns._______(bk1['______'], ax = ax[2], color = 'orange')\n",
        "drawline(pp, 'income')"
      ],
      "execution_count": null,
      "outputs": []
    },
    {
      "cell_type": "code",
      "metadata": {
        "id": "Nwd11t69ysPY"
      },
      "source": [
        "#violin plot으로 범주형 변수 확인하기\n",
        "f, ax = plt.________(1, 3, figsize=(16, 6))\n",
        "\n",
        "sns._________(bk1['loan'],bk1['______'],ax=ax[0]);\n",
        "sns._________(bk1['loan'],bk1['___'],ax=ax[1]);\n",
        "sns._________(bk1['loan'],bk1['___'],ax=ax[2]);\n",
        "\n",
        "plt.show()\n",
        "\n",
        "#수입이 높을 때 personal loan을 받을 확률이 높다!"
      ],
      "execution_count": null,
      "outputs": []
    },
    {
      "cell_type": "markdown",
      "metadata": {
        "id": "CEIyq0xv3n_w"
      },
      "source": [
        "###4-3. 변수 간 상관관계 파악하기"
      ]
    },
    {
      "cell_type": "code",
      "metadata": {
        "id": "xVWOzOK82ruz"
      },
      "source": [
        "#Heat map을 그려서 변수 간 상관관계를 파악하자\n",
        "f, ax = plt._________(1, 1, figsize=(15, 15))\n",
        "sns.______(bk1____r(), ax=ax, annot=True, fmt='.2g')\n",
        "\n",
        "#가장 상관관계가 높은 것은 나이와 경험(0.99).\n",
        "#CCAvg와 수입은 중간 정도의 상관관계(0.65)를 가진다.\n",
        "#수입은 CCAvg, Mortgage, CD Account, Personal Loan에 영향을 미친다"
      ],
      "execution_count": null,
      "outputs": []
    },
    {
      "cell_type": "markdown",
      "metadata": {
        "id": "LjoRXj3JUNLq"
      },
      "source": [
        "###4-4. 구간화 해서 그래프 그리기"
      ]
    },
    {
      "cell_type": "code",
      "metadata": {
        "id": "3Tn8uRKuWDVW"
      },
      "source": [
        "#신용카드 월평균 이용금액을 구간화 하자\n",
        "df4 = bk1[['ccavg', 'cc', 'loan']]\n",
        "df4['ccavg_bin'] = pd.___(df4['_____'], ____ = [_, _, _, _, ___], labels = ['0-2', '3-4', '5-6', '7+'])\n",
        "df4"
      ],
      "execution_count": null,
      "outputs": []
    },
    {
      "cell_type": "code",
      "metadata": {
        "id": "6VY5SnzHZyoo"
      },
      "source": [
        "#구간별로 신용카드 유무와 신용카드 월평균 사용액 집계\n",
        "df5 = df4._______(['________', '__'])['_____'].___().___________()\n",
        "df5"
      ],
      "execution_count": null,
      "outputs": []
    },
    {
      "cell_type": "code",
      "metadata": {
        "id": "hOzDoGIvV0HR"
      },
      "source": [
        "#구간화 결과를 그래프로 나타내자(bar plot)\n",
        "f, ax= plt._________(1, 2, figsize = (16, 6))\n",
        "\n",
        "sns.______(df5['__________'], df5['_____'], hue = df5['__'], palette= \"cividis\", ax=ax[0]);\n",
        "ax[0].set(xlabel = 'CC avg bins', ylabel = 'Count of customers');\n",
        "\n",
        "#참조할 수 있도록 수입과 신용카드 월평균 사용액을 함께 나타내자\n",
        "sns.____________(x='______', y='_____', data=bk1, ax=ax[1], hue = '____', palette= \"cividis\", alpha=0.6)"
      ],
      "execution_count": null,
      "outputs": []
    },
    {
      "cell_type": "markdown",
      "metadata": {
        "id": "ZWfXKwrAgnJB"
      },
      "source": [
        "##5.로지스틱 회귀분석  \n",
        "로지스틱 회귀분석(Logistic regression):  \n",
        "종속변수와 독립변수 사이의 관계를 함수로 나타내어, 이 다음을 예측하는 방식.  \n",
        "독립변수 사이의 선형 결합으로 종속변수를 설명하는 것은 선형 회귀와 동일하지만, 종속변수가 범주형 데이터를 대상으로 한다는 점이 다르다."
      ]
    },
    {
      "cell_type": "code",
      "metadata": {
        "id": "VmZETNXGPilB"
      },
      "source": [
        "#로지스틱 회귀분석에 필요한 sklearn 패키지 등등 불러오기\n",
        "import os\n",
        "\n",
        "from sklearn.linear_model import ________________\n",
        "from sklearn._________________ import train_test_split\n",
        "from sklearn import metrics\n",
        "import sklearn.preprocessing as preprocessing\n",
        "from sklearn.preprocessing import __________________, LabelEncoder\n",
        "from sklearn.metrics import confusion_matrix\n",
        "from sklearn.metrics import _____________\n",
        "\n",
        "import statsmodels.api as sm\n",
        "import itertools\n",
        "import time"
      ],
      "execution_count": null,
      "outputs": []
    },
    {
      "cell_type": "markdown",
      "metadata": {
        "id": "31LhktliJY1H"
      },
      "source": [
        "###5-1. 데이터 나누기\n",
        "설명변수(X), 타겟변수(Y) 분리 및 학습데이터와 평가데이터 "
      ]
    },
    {
      "cell_type": "markdown",
      "metadata": {
        "id": "2mRfRzE0LxqX"
      },
      "source": [
        "* 회귀분석의 목표:  \n",
        "어떤 특징을 가진 고객이 개인대출을 받을 것인가?"
      ]
    },
    {
      "cell_type": "code",
      "metadata": {
        "id": "baJJUnEh83zu"
      },
      "source": [
        "#loan이 타겟변수, 나머지 컬럼이 설명변수가 된다\n",
        "feature_columns = list(bk1.________.________________(['____']))\n",
        "feature_columns"
      ],
      "execution_count": null,
      "outputs": []
    },
    {
      "cell_type": "code",
      "metadata": {
        "id": "UQfeWg8VLjKq"
      },
      "source": [
        "#설명변수\n",
        "X = bk1[_______________]\n",
        "#타겟변수\n",
        "y = bk1['____'] # 대출여부: 1 or 0"
      ],
      "execution_count": null,
      "outputs": []
    },
    {
      "cell_type": "code",
      "metadata": {
        "id": "Nl0612mzbcZB"
      },
      "source": [
        "#학습 데이터와 평가 데이터 나누기(7:3으로 나누자!)\n",
        "#train: 학습 데이터, test: 평가 데이터\n",
        "_______, _______, _______, _______ = ________________(_, _, stratify=y,train_size=___,test_size=___,random_state=42)\n",
        "print(_______.shape, _______.shape, _______.shape, _______.shape)"
      ],
      "execution_count": null,
      "outputs": []
    },
    {
      "cell_type": "code",
      "metadata": {
        "id": "gXrNdhIm-RAe"
      },
      "source": [
        "train_x"
      ],
      "execution_count": null,
      "outputs": []
    },
    {
      "cell_type": "code",
      "metadata": {
        "id": "AAW_-Utr-Q60"
      },
      "source": [
        "#각 컬럼의 값들이 정규분포를 가지도록 scaling 해 주는 과정\n",
        "scaler = ____________()\n",
        "train_x = ______._____________(_______)\n",
        "test_x = ______._____________(_______)"
      ],
      "execution_count": null,
      "outputs": []
    },
    {
      "cell_type": "code",
      "metadata": {
        "id": "mxMmAmpt-Qw_"
      },
      "source": [
        "train_x"
      ],
      "execution_count": null,
      "outputs": []
    },
    {
      "cell_type": "markdown",
      "metadata": {
        "id": "9tC3NM9pSHul"
      },
      "source": [
        "###5-2. 모델 만들기"
      ]
    },
    {
      "cell_type": "code",
      "metadata": {
        "id": "LxpY0_5aQtbG"
      },
      "source": [
        "#모델 만들기: 알고리즘 방식 = liblinear, iteration 최대 횟수 = 2000\n",
        "lrm = _________________________(solver='_____________', ________=2000)"
      ],
      "execution_count": null,
      "outputs": []
    },
    {
      "cell_type": "code",
      "metadata": {
        "id": "ZgPcrjdKU1r8"
      },
      "source": [
        "#학습 데이터 집어넣기\n",
        "lrm.___(_______, ________)"
      ],
      "execution_count": null,
      "outputs": []
    },
    {
      "cell_type": "code",
      "metadata": {
        "id": "0-r9jsoYVfa_"
      },
      "source": [
        "#모델에서 산출된 계수 확인하기\n",
        "coeff_df = pd.__________(lrm._______)\n",
        "coeff_df['Intercept'] = lrm._________\n",
        "coeff_df"
      ],
      "execution_count": null,
      "outputs": []
    },
    {
      "cell_type": "markdown",
      "metadata": {
        "id": "cqWzbuBfVepu"
      },
      "source": [
        "###5-3. 모델링 결과 확인하기"
      ]
    },
    {
      "cell_type": "code",
      "metadata": {
        "id": "0kkDNe8yWjUU"
      },
      "source": [
        "#모델에 학습 데이터를 넣어 정확도(accuracy) 확인하자\n",
        "training_predict = lrm._______(_______)\n",
        "print('학습 데이터를 넣었을 때 모델의 정확도: {:.4f}'.format(metrics._______________(_______, training_predict)))"
      ],
      "execution_count": null,
      "outputs": []
    },
    {
      "cell_type": "code",
      "metadata": {
        "id": "nqvhXWT2WS_u"
      },
      "source": [
        "#학습 데이터로 만든 모델에 테스트 데이터를 넣어 어떤 분류가 되었는지 확인하자\n",
        "test_predict = lrm._______(_______)\n",
        "print('테스트 데이터를 넣었을 때 모델의 정확도: {:.4f}'.format(metrics._______________(_______, test_predict)))"
      ],
      "execution_count": null,
      "outputs": []
    },
    {
      "cell_type": "markdown",
      "metadata": {
        "id": "yfBk68q4ZKj1"
      },
      "source": [
        "###5-4. Confusion matrix & Report"
      ]
    },
    {
      "cell_type": "code",
      "metadata": {
        "id": "QStJzBV_Wi8D"
      },
      "source": [
        "#confusion matrix 구하기\n",
        "logistic_cm = metrics._____________________(_______, ________________, labels=[1,0])\n",
        "print(logistic_cm)"
      ],
      "execution_count": null,
      "outputs": []
    },
    {
      "cell_type": "code",
      "metadata": {
        "id": "Na4f9JebnLlO"
      },
      "source": [
        "logistic_cm_df = pd._____________(_____________, index = [i for i in ['1','0']], columns = [i for i in ['predict 1', 'predict 0']])\n",
        "logistic_cm_df"
      ],
      "execution_count": null,
      "outputs": []
    },
    {
      "cell_type": "code",
      "metadata": {
        "id": "zjeXSQtFaCyE"
      },
      "source": [
        "f, ax= plt.subplots(1, 1, figsize = (10, 6))\n",
        "plt.title('Confusion Matrix for Logistic Regression Model', size=15)\n",
        "sns._______(_________________, annot=True, fmt='g',ax=ax)\n",
        "\n",
        "#True Positives: 대출 제안을 받을 사람을 정확하게 예측  =  __\n",
        "#True Negatives (TN): 대출 제안을 거절할 사람을 정확하게 예측  =  ____\n",
        "#False Positives (FP): 대출 제안을 받을 것으로 잘못 판단(Type I error)  =  __\n",
        "#False Negatives (FN): 대출 제안을 받지 않을 것으로 잘못 판단(Type II error)  =  __"
      ],
      "execution_count": null,
      "outputs": []
    },
    {
      "cell_type": "code",
      "metadata": {
        "id": "SFZAivBTopGl"
      },
      "source": [
        "print('Logistic Regression Model - Classification Report')\n",
        "print('')\n",
        "print(metrics._____________________________(______, ______________, labels=[1,0]))"
      ],
      "execution_count": null,
      "outputs": []
    },
    {
      "cell_type": "markdown",
      "metadata": {
        "id": "wKQCYMPOuKar"
      },
      "source": [
        "##6.Review"
      ]
    },
    {
      "cell_type": "markdown",
      "metadata": {
        "id": "ERotlql5uGSh"
      },
      "source": [
        "* Thera bank 데이터는:  \n",
        "총 데이터 수:  70000  \n",
        "총 결측치 수: 0 = 전체 데이터의 0.00%   \n",
        "Thera bank 고객의 나이는 23세부터 67세까지 있으며 평균 나이는 45.3세이다.  \n",
        "Thera bank 고객의 평균 수입은 73774.2 $이며, 최고수입은 224000 $로 평균의 3.0배이다.\n",
        "\n",
        "* 수입/월평균신용카드사용량/가족인원수와 대출 사이의 관계는?  \n",
        "   : 대출 받은 사람의 수입이 대출 받지 않은 사람보다 3배 정도 높다  \n",
        "   : 대출받은 사람이 받지 않은 사람보다 월평균 신용카드 사용액이 2배 가량 높다  \n",
        "   : 가족 인원수가 많을 수록 대출 금액이 올라가나 정비례 하지는 않는다  \n",
        "* 월 평균 사용 금액을 구간화 해서 특징을 볼 수 있을까?\n",
        "* 로지스틱 회귀 분석을 사용해서 신규 고객의 대출여부를 예측하는 모델 만들기\n"
      ]
    },
    {
      "cell_type": "code",
      "metadata": {
        "id": "hB65egX7-ZPZ"
      },
      "source": [],
      "execution_count": null,
      "outputs": []
    }
  ]
}